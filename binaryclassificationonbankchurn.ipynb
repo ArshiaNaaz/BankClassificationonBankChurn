{
 "cells": [
  {
   "cell_type": "code",
   "execution_count": 1,
   "id": "69ecc886",
   "metadata": {
    "_cell_guid": "b1076dfc-b9ad-4769-8c92-a6c4dae69d19",
    "_uuid": "8f2839f25d086af736a60e9eeb907d3b93b6e0e5",
    "execution": {
     "iopub.execute_input": "2024-01-31T14:52:14.464442Z",
     "iopub.status.busy": "2024-01-31T14:52:14.463443Z",
     "iopub.status.idle": "2024-01-31T14:52:15.645004Z",
     "shell.execute_reply": "2024-01-31T14:52:15.643057Z"
    },
    "papermill": {
     "duration": 1.198853,
     "end_time": "2024-01-31T14:52:15.648744",
     "exception": false,
     "start_time": "2024-01-31T14:52:14.449891",
     "status": "completed"
    },
    "tags": []
   },
   "outputs": [
    {
     "name": "stdout",
     "output_type": "stream",
     "text": [
      "/kaggle/input/playground-series-s4e1/sample_submission.csv\n",
      "/kaggle/input/playground-series-s4e1/train.csv\n",
      "/kaggle/input/playground-series-s4e1/test.csv\n"
     ]
    }
   ],
   "source": [
    "# This Python 3 environment comes with many helpful analytics libraries installed\n",
    "# It is defined by the kaggle/python Docker image: https://github.com/kaggle/docker-python\n",
    "# For example, here's several helpful packages to load\n",
    "\n",
    "import numpy as np # linear algebra\n",
    "import pandas as pd # data processing, CSV file I/O (e.g. pd.read_csv)\n",
    "\n",
    "# Input data files are available in the read-only \"../input/\" directory\n",
    "# For example, running this (by clicking run or pressing Shift+Enter) will list all files under the input directory\n",
    "\n",
    "import os\n",
    "for dirname, _, filenames in os.walk('/kaggle/input'):\n",
    "    for filename in filenames:\n",
    "        print(os.path.join(dirname, filename))\n",
    "\n",
    "# You can write up to 20GB to the current directory (/kaggle/working/) that gets preserved as output when you create a version using \"Save & Run All\" \n",
    "# You can also write temporary files to /kaggle/temp/, but they won't be saved outside of the current session"
   ]
  },
  {
   "cell_type": "code",
   "execution_count": 2,
   "id": "204ca006",
   "metadata": {
    "execution": {
     "iopub.execute_input": "2024-01-31T14:52:15.673330Z",
     "iopub.status.busy": "2024-01-31T14:52:15.672627Z",
     "iopub.status.idle": "2024-01-31T14:52:17.788559Z",
     "shell.execute_reply": "2024-01-31T14:52:17.786614Z"
    },
    "papermill": {
     "duration": 2.13199,
     "end_time": "2024-01-31T14:52:17.791815",
     "exception": false,
     "start_time": "2024-01-31T14:52:15.659825",
     "status": "completed"
    },
    "tags": []
   },
   "outputs": [],
   "source": [
    "from pathlib import Path\n",
    "from sklearn.feature_selection import mutual_info_regression\n",
    "from sklearn.metrics import roc_auc_score\n",
    "\n"
   ]
  },
  {
   "cell_type": "code",
   "execution_count": 3,
   "id": "06f1a6ff",
   "metadata": {
    "execution": {
     "iopub.execute_input": "2024-01-31T14:52:17.817263Z",
     "iopub.status.busy": "2024-01-31T14:52:17.816742Z",
     "iopub.status.idle": "2024-01-31T14:52:18.491988Z",
     "shell.execute_reply": "2024-01-31T14:52:18.489959Z"
    },
    "papermill": {
     "duration": 0.691505,
     "end_time": "2024-01-31T14:52:18.495748",
     "exception": false,
     "start_time": "2024-01-31T14:52:17.804243",
     "status": "completed"
    },
    "tags": []
   },
   "outputs": [],
   "source": [
    "data=pd.read_csv(\"/kaggle/input/playground-series-s4e1/train.csv\",index_col=\"id\")"
   ]
  },
  {
   "cell_type": "code",
   "execution_count": 4,
   "id": "61e44015",
   "metadata": {
    "execution": {
     "iopub.execute_input": "2024-01-31T14:52:18.520439Z",
     "iopub.status.busy": "2024-01-31T14:52:18.520010Z",
     "iopub.status.idle": "2024-01-31T14:52:18.603919Z",
     "shell.execute_reply": "2024-01-31T14:52:18.602045Z"
    },
    "papermill": {
     "duration": 0.100556,
     "end_time": "2024-01-31T14:52:18.607711",
     "exception": false,
     "start_time": "2024-01-31T14:52:18.507155",
     "status": "completed"
    },
    "tags": []
   },
   "outputs": [
    {
     "name": "stdout",
     "output_type": "stream",
     "text": [
      "<class 'pandas.core.frame.DataFrame'>\n",
      "Index: 165034 entries, 0 to 165033\n",
      "Data columns (total 13 columns):\n",
      " #   Column           Non-Null Count   Dtype  \n",
      "---  ------           --------------   -----  \n",
      " 0   CustomerId       165034 non-null  int64  \n",
      " 1   Surname          165034 non-null  object \n",
      " 2   CreditScore      165034 non-null  int64  \n",
      " 3   Geography        165034 non-null  object \n",
      " 4   Gender           165034 non-null  object \n",
      " 5   Age              165034 non-null  float64\n",
      " 6   Tenure           165034 non-null  int64  \n",
      " 7   Balance          165034 non-null  float64\n",
      " 8   NumOfProducts    165034 non-null  int64  \n",
      " 9   HasCrCard        165034 non-null  float64\n",
      " 10  IsActiveMember   165034 non-null  float64\n",
      " 11  EstimatedSalary  165034 non-null  float64\n",
      " 12  Exited           165034 non-null  int64  \n",
      "dtypes: float64(5), int64(5), object(3)\n",
      "memory usage: 17.6+ MB\n"
     ]
    }
   ],
   "source": [
    "data.info()"
   ]
  },
  {
   "cell_type": "code",
   "execution_count": 5,
   "id": "06bf19f5",
   "metadata": {
    "execution": {
     "iopub.execute_input": "2024-01-31T14:52:18.634915Z",
     "iopub.status.busy": "2024-01-31T14:52:18.634379Z",
     "iopub.status.idle": "2024-01-31T14:52:18.649129Z",
     "shell.execute_reply": "2024-01-31T14:52:18.647296Z"
    },
    "papermill": {
     "duration": 0.033322,
     "end_time": "2024-01-31T14:52:18.652232",
     "exception": false,
     "start_time": "2024-01-31T14:52:18.618910",
     "status": "completed"
    },
    "tags": []
   },
   "outputs": [
    {
     "data": {
      "text/plain": [
       "Exited\n",
       "0    130113\n",
       "1     34921\n",
       "Name: count, dtype: int64"
      ]
     },
     "execution_count": 5,
     "metadata": {},
     "output_type": "execute_result"
    }
   ],
   "source": [
    "data['Exited'].value_counts()"
   ]
  },
  {
   "cell_type": "code",
   "execution_count": null,
   "id": "3a563618",
   "metadata": {
    "papermill": {
     "duration": 0.010893,
     "end_time": "2024-01-31T14:52:18.675739",
     "exception": false,
     "start_time": "2024-01-31T14:52:18.664846",
     "status": "completed"
    },
    "tags": []
   },
   "outputs": [],
   "source": []
  },
  {
   "cell_type": "code",
   "execution_count": 6,
   "id": "5c0567fe",
   "metadata": {
    "execution": {
     "iopub.execute_input": "2024-01-31T14:52:18.701520Z",
     "iopub.status.busy": "2024-01-31T14:52:18.701044Z",
     "iopub.status.idle": "2024-01-31T14:52:18.709483Z",
     "shell.execute_reply": "2024-01-31T14:52:18.707852Z"
    },
    "papermill": {
     "duration": 0.023753,
     "end_time": "2024-01-31T14:52:18.711906",
     "exception": false,
     "start_time": "2024-01-31T14:52:18.688153",
     "status": "completed"
    },
    "tags": []
   },
   "outputs": [],
   "source": [
    "def load_data():\n",
    "    # Read data\n",
    "    df_train = pd.read_csv(\"/kaggle/input/playground-series-s4e1/train.csv\",index_col=\"id\")\n",
    "    df_test = pd.read_csv(\"/kaggle/input/playground-series-s4e1/test.csv\",index_col=\"id\")\n",
    "    # Merge the splits so we can process them together\n",
    "    df = pd.concat([df_train, df_test])\n",
    "    # Preprocessing\n",
    "    df = encode(df)\n",
    "    # Reform splits\n",
    "    df_train = df.loc[df_train.index, :]\n",
    "    df_test = df.loc[df_test.index, :]\n",
    "    return df_train, df_test"
   ]
  },
  {
   "cell_type": "code",
   "execution_count": null,
   "id": "3dacf2db",
   "metadata": {
    "papermill": {
     "duration": 0.011232,
     "end_time": "2024-01-31T14:52:18.735673",
     "exception": false,
     "start_time": "2024-01-31T14:52:18.724441",
     "status": "completed"
    },
    "tags": []
   },
   "outputs": [],
   "source": []
  },
  {
   "cell_type": "code",
   "execution_count": null,
   "id": "b5f87c92",
   "metadata": {
    "papermill": {
     "duration": 0.010744,
     "end_time": "2024-01-31T14:52:18.758288",
     "exception": false,
     "start_time": "2024-01-31T14:52:18.747544",
     "status": "completed"
    },
    "tags": []
   },
   "outputs": [],
   "source": []
  },
  {
   "cell_type": "code",
   "execution_count": 7,
   "id": "4d3707b2",
   "metadata": {
    "execution": {
     "iopub.execute_input": "2024-01-31T14:52:18.783960Z",
     "iopub.status.busy": "2024-01-31T14:52:18.783194Z",
     "iopub.status.idle": "2024-01-31T14:52:18.791241Z",
     "shell.execute_reply": "2024-01-31T14:52:18.789240Z"
    },
    "papermill": {
     "duration": 0.024537,
     "end_time": "2024-01-31T14:52:18.794547",
     "exception": false,
     "start_time": "2024-01-31T14:52:18.770010",
     "status": "completed"
    },
    "tags": []
   },
   "outputs": [],
   "source": [
    "def encode(df):\n",
    "    df = pd.get_dummies(df, columns=['Geography'],dtype=int)\n",
    "    df['Is_male'] = df['Gender'].map( {'Female': 0, 'Male': 1} ).astype(int)\n",
    "    df.drop(columns=['Surname','Gender'],inplace=True)\n",
    "    return df"
   ]
  },
  {
   "cell_type": "code",
   "execution_count": 8,
   "id": "9225d189",
   "metadata": {
    "execution": {
     "iopub.execute_input": "2024-01-31T14:52:18.821546Z",
     "iopub.status.busy": "2024-01-31T14:52:18.821145Z",
     "iopub.status.idle": "2024-01-31T14:52:18.830277Z",
     "shell.execute_reply": "2024-01-31T14:52:18.828966Z"
    },
    "papermill": {
     "duration": 0.025181,
     "end_time": "2024-01-31T14:52:18.832886",
     "exception": false,
     "start_time": "2024-01-31T14:52:18.807705",
     "status": "completed"
    },
    "tags": []
   },
   "outputs": [],
   "source": [
    "def make_mi_scores(X, y):\n",
    "    X = X.copy()\n",
    "    for colname in X.select_dtypes([\"object\", \"category\"]):\n",
    "        X[colname], _ = X[colname].factorize()\n",
    "    # All discrete features should now have integer dtypes\n",
    "    discrete_features = [pd.api.types.is_integer_dtype(t) for t in X.dtypes]\n",
    "    mi_scores = mutual_info_regression(X, y, discrete_features=discrete_features, random_state=0)\n",
    "    mi_scores = pd.Series(mi_scores, name=\"MI Scores\", index=X.columns)\n",
    "    mi_scores = mi_scores.sort_values(ascending=False)\n",
    "    return mi_scores\n"
   ]
  },
  {
   "cell_type": "code",
   "execution_count": 9,
   "id": "2fbd30a1",
   "metadata": {
    "execution": {
     "iopub.execute_input": "2024-01-31T14:52:18.858530Z",
     "iopub.status.busy": "2024-01-31T14:52:18.858039Z",
     "iopub.status.idle": "2024-01-31T14:54:11.393132Z",
     "shell.execute_reply": "2024-01-31T14:54:11.391389Z"
    },
    "papermill": {
     "duration": 112.564178,
     "end_time": "2024-01-31T14:54:11.409283",
     "exception": false,
     "start_time": "2024-01-31T14:52:18.845105",
     "status": "completed"
    },
    "tags": []
   },
   "outputs": [
    {
     "data": {
      "text/plain": [
       "NumOfProducts      0.092622\n",
       "Age                0.081648\n",
       "Surname            0.022402\n",
       "IsActiveMember     0.021661\n",
       "CustomerId         0.021527\n",
       "Geography          0.020957\n",
       "Balance            0.013803\n",
       "Gender             0.013358\n",
       "EstimatedSalary    0.007398\n",
       "CreditScore        0.001659\n",
       "Tenure             0.000000\n",
       "HasCrCard          0.000000\n",
       "Name: MI Scores, dtype: float64"
      ]
     },
     "execution_count": 9,
     "metadata": {},
     "output_type": "execute_result"
    }
   ],
   "source": [
    "X = data.copy()\n",
    "y = X.pop(\"Exited\")\n",
    "\n",
    "mi_scores = make_mi_scores(X, y)\n",
    "mi_scores\n"
   ]
  },
  {
   "cell_type": "code",
   "execution_count": 10,
   "id": "b2fcb115",
   "metadata": {
    "execution": {
     "iopub.execute_input": "2024-01-31T14:54:11.435352Z",
     "iopub.status.busy": "2024-01-31T14:54:11.434915Z",
     "iopub.status.idle": "2024-01-31T14:54:11.462342Z",
     "shell.execute_reply": "2024-01-31T14:54:11.461046Z"
    },
    "papermill": {
     "duration": 0.043448,
     "end_time": "2024-01-31T14:54:11.465741",
     "exception": false,
     "start_time": "2024-01-31T14:54:11.422293",
     "status": "completed"
    },
    "tags": []
   },
   "outputs": [
    {
     "data": {
      "text/html": [
       "<div>\n",
       "<style scoped>\n",
       "    .dataframe tbody tr th:only-of-type {\n",
       "        vertical-align: middle;\n",
       "    }\n",
       "\n",
       "    .dataframe tbody tr th {\n",
       "        vertical-align: top;\n",
       "    }\n",
       "\n",
       "    .dataframe thead th {\n",
       "        text-align: right;\n",
       "    }\n",
       "</style>\n",
       "<table border=\"1\" class=\"dataframe\">\n",
       "  <thead>\n",
       "    <tr style=\"text-align: right;\">\n",
       "      <th></th>\n",
       "      <th>HasCrCard</th>\n",
       "      <th>EstimatedSalary</th>\n",
       "    </tr>\n",
       "    <tr>\n",
       "      <th>Exited</th>\n",
       "      <th></th>\n",
       "      <th></th>\n",
       "    </tr>\n",
       "  </thead>\n",
       "  <tbody>\n",
       "    <tr>\n",
       "      <th>0</th>\n",
       "      <td>130113</td>\n",
       "      <td>130113</td>\n",
       "    </tr>\n",
       "    <tr>\n",
       "      <th>1</th>\n",
       "      <td>34921</td>\n",
       "      <td>34921</td>\n",
       "    </tr>\n",
       "  </tbody>\n",
       "</table>\n",
       "</div>"
      ],
      "text/plain": [
       "        HasCrCard  EstimatedSalary\n",
       "Exited                            \n",
       "0          130113           130113\n",
       "1           34921            34921"
      ]
     },
     "execution_count": 10,
     "metadata": {},
     "output_type": "execute_result"
    }
   ],
   "source": [
    "data[['HasCrCard','EstimatedSalary']].groupby(data['Exited']).agg(\"count\")"
   ]
  },
  {
   "cell_type": "code",
   "execution_count": 11,
   "id": "c8bc5ea7",
   "metadata": {
    "execution": {
     "iopub.execute_input": "2024-01-31T14:54:11.493309Z",
     "iopub.status.busy": "2024-01-31T14:54:11.491935Z",
     "iopub.status.idle": "2024-01-31T14:54:12.362049Z",
     "shell.execute_reply": "2024-01-31T14:54:12.360548Z"
    },
    "papermill": {
     "duration": 0.886979,
     "end_time": "2024-01-31T14:54:12.364990",
     "exception": false,
     "start_time": "2024-01-31T14:54:11.478011",
     "status": "completed"
    },
    "tags": []
   },
   "outputs": [],
   "source": [
    "df_train, df_test = load_data()\n"
   ]
  },
  {
   "cell_type": "code",
   "execution_count": 12,
   "id": "a7939c9e",
   "metadata": {
    "execution": {
     "iopub.execute_input": "2024-01-31T14:54:12.390629Z",
     "iopub.status.busy": "2024-01-31T14:54:12.390182Z",
     "iopub.status.idle": "2024-01-31T14:54:12.398868Z",
     "shell.execute_reply": "2024-01-31T14:54:12.397811Z"
    },
    "papermill": {
     "duration": 0.025218,
     "end_time": "2024-01-31T14:54:12.402064",
     "exception": false,
     "start_time": "2024-01-31T14:54:12.376846",
     "status": "completed"
    },
    "tags": []
   },
   "outputs": [
    {
     "data": {
      "text/plain": [
       "Index([     0,      1,      2,      3,      4,      5,      6,      7,      8,\n",
       "            9,\n",
       "       ...\n",
       "       165024, 165025, 165026, 165027, 165028, 165029, 165030, 165031, 165032,\n",
       "       165033],\n",
       "      dtype='int64', name='id', length=165034)"
      ]
     },
     "execution_count": 12,
     "metadata": {},
     "output_type": "execute_result"
    }
   ],
   "source": [
    "df_train.index"
   ]
  },
  {
   "cell_type": "code",
   "execution_count": 13,
   "id": "71d1bd73",
   "metadata": {
    "execution": {
     "iopub.execute_input": "2024-01-31T14:54:12.430959Z",
     "iopub.status.busy": "2024-01-31T14:54:12.429951Z",
     "iopub.status.idle": "2024-01-31T14:54:12.669797Z",
     "shell.execute_reply": "2024-01-31T14:54:12.668241Z"
    },
    "papermill": {
     "duration": 0.257397,
     "end_time": "2024-01-31T14:54:12.673131",
     "exception": false,
     "start_time": "2024-01-31T14:54:12.415734",
     "status": "completed"
    },
    "tags": []
   },
   "outputs": [],
   "source": [
    "from sklearn.model_selection import train_test_split\n",
    "from xgboost import XGBClassifier\n",
    "from sklearn.model_selection import KFold, cross_val_score\n",
    "\n",
    "def score_dataset(X, y, model):\n",
    "    # Label encoding for categoricals\n",
    "    #\n",
    "    # Label encoding is good for XGBoost and RandomForest, but one-hot\n",
    "    # would be better for models like Lasso or Ridge. The `cat.codes`\n",
    "    # attribute holds the category levels.\n",
    "    for colname in X.select_dtypes([\"category\"]):\n",
    "        X[colname] = X[colname].cat.codes\n",
    "    # Metric for Housing competition is RMSLE (Root Mean Squared Log Error)\n",
    "    #log_y = np.log(y)\n",
    "    score = cross_val_score(\n",
    "        model, X, y, cv=10)\n",
    "    score = score.mean()\n",
    "    #score = np.sqrt(score)\n",
    "    return score\n"
   ]
  },
  {
   "cell_type": "code",
   "execution_count": 14,
   "id": "19962779",
   "metadata": {
    "execution": {
     "iopub.execute_input": "2024-01-31T14:54:12.699787Z",
     "iopub.status.busy": "2024-01-31T14:54:12.699362Z",
     "iopub.status.idle": "2024-01-31T14:54:12.725987Z",
     "shell.execute_reply": "2024-01-31T14:54:12.724559Z"
    },
    "papermill": {
     "duration": 0.043358,
     "end_time": "2024-01-31T14:54:12.728833",
     "exception": false,
     "start_time": "2024-01-31T14:54:12.685475",
     "status": "completed"
    },
    "tags": []
   },
   "outputs": [],
   "source": [
    "X = df_train.copy()\n",
    "y = X.pop(\"Exited\")\n"
   ]
  },
  {
   "cell_type": "code",
   "execution_count": 15,
   "id": "2b2d0027",
   "metadata": {
    "execution": {
     "iopub.execute_input": "2024-01-31T14:54:12.754577Z",
     "iopub.status.busy": "2024-01-31T14:54:12.753764Z",
     "iopub.status.idle": "2024-01-31T14:54:12.794023Z",
     "shell.execute_reply": "2024-01-31T14:54:12.792803Z"
    },
    "papermill": {
     "duration": 0.057422,
     "end_time": "2024-01-31T14:54:12.797828",
     "exception": false,
     "start_time": "2024-01-31T14:54:12.740406",
     "status": "completed"
    },
    "tags": []
   },
   "outputs": [],
   "source": [
    "X_train, X_val, y_train, y_val = train_test_split(X, y, test_size=0.2, random_state=42)\n"
   ]
  },
  {
   "cell_type": "code",
   "execution_count": 16,
   "id": "4df065af",
   "metadata": {
    "execution": {
     "iopub.execute_input": "2024-01-31T14:54:12.826370Z",
     "iopub.status.busy": "2024-01-31T14:54:12.825836Z",
     "iopub.status.idle": "2024-01-31T14:54:24.047980Z",
     "shell.execute_reply": "2024-01-31T14:54:24.046897Z"
    },
    "papermill": {
     "duration": 11.239423,
     "end_time": "2024-01-31T14:54:24.050839",
     "exception": false,
     "start_time": "2024-01-31T14:54:12.811416",
     "status": "completed"
    },
    "tags": []
   },
   "outputs": [
    {
     "name": "stdout",
     "output_type": "stream",
     "text": [
      "Baseline score: 0.86350 RMSLE\n"
     ]
    }
   ],
   "source": [
    "baseline_score = score_dataset(X_train, y_train,XGBClassifier())\n",
    "print(f\"Baseline score: {baseline_score:.5f} RMSLE\")\n"
   ]
  },
  {
   "cell_type": "code",
   "execution_count": null,
   "id": "12d737e9",
   "metadata": {
    "papermill": {
     "duration": 0.012404,
     "end_time": "2024-01-31T14:54:24.075741",
     "exception": false,
     "start_time": "2024-01-31T14:54:24.063337",
     "status": "completed"
    },
    "tags": []
   },
   "outputs": [],
   "source": []
  },
  {
   "cell_type": "code",
   "execution_count": 17,
   "id": "1c3ea20e",
   "metadata": {
    "execution": {
     "iopub.execute_input": "2024-01-31T14:54:24.102027Z",
     "iopub.status.busy": "2024-01-31T14:54:24.101605Z",
     "iopub.status.idle": "2024-01-31T14:54:25.144063Z",
     "shell.execute_reply": "2024-01-31T14:54:25.142876Z"
    },
    "papermill": {
     "duration": 1.058724,
     "end_time": "2024-01-31T14:54:25.147061",
     "exception": false,
     "start_time": "2024-01-31T14:54:24.088337",
     "status": "completed"
    },
    "tags": []
   },
   "outputs": [],
   "source": [
    "xgb = XGBClassifier()\n",
    "xgb.fit(X_train,y_train)\n",
    "predictions2=xgb.predict_proba(X_val)[:,1]\n",
    "#score_dataset(X_val, predictions2, xgb)\n"
   ]
  },
  {
   "cell_type": "code",
   "execution_count": 18,
   "id": "e83cafea",
   "metadata": {
    "execution": {
     "iopub.execute_input": "2024-01-31T14:54:25.175517Z",
     "iopub.status.busy": "2024-01-31T14:54:25.175131Z",
     "iopub.status.idle": "2024-01-31T14:54:25.184259Z",
     "shell.execute_reply": "2024-01-31T14:54:25.182732Z"
    },
    "papermill": {
     "duration": 0.025038,
     "end_time": "2024-01-31T14:54:25.186846",
     "exception": false,
     "start_time": "2024-01-31T14:54:25.161808",
     "status": "completed"
    },
    "tags": []
   },
   "outputs": [
    {
     "data": {
      "text/plain": [
       "array([0.1124521 , 0.01143064, 0.75511426, ..., 0.41879767, 0.00991993,\n",
       "       0.04550116], dtype=float32)"
      ]
     },
     "execution_count": 18,
     "metadata": {},
     "output_type": "execute_result"
    }
   ],
   "source": [
    "predictions2"
   ]
  },
  {
   "cell_type": "code",
   "execution_count": 19,
   "id": "6519c57e",
   "metadata": {
    "execution": {
     "iopub.execute_input": "2024-01-31T14:54:25.217981Z",
     "iopub.status.busy": "2024-01-31T14:54:25.216400Z",
     "iopub.status.idle": "2024-01-31T14:54:25.240710Z",
     "shell.execute_reply": "2024-01-31T14:54:25.239415Z"
    },
    "papermill": {
     "duration": 0.043291,
     "end_time": "2024-01-31T14:54:25.243602",
     "exception": false,
     "start_time": "2024-01-31T14:54:25.200311",
     "status": "completed"
    },
    "tags": []
   },
   "outputs": [],
   "source": [
    "roc_auc = roc_auc_score(y_val, predictions2)"
   ]
  },
  {
   "cell_type": "code",
   "execution_count": 20,
   "id": "96cc4892",
   "metadata": {
    "execution": {
     "iopub.execute_input": "2024-01-31T14:54:25.270264Z",
     "iopub.status.busy": "2024-01-31T14:54:25.269558Z",
     "iopub.status.idle": "2024-01-31T14:54:25.276415Z",
     "shell.execute_reply": "2024-01-31T14:54:25.275305Z"
    },
    "papermill": {
     "duration": 0.023405,
     "end_time": "2024-01-31T14:54:25.278844",
     "exception": false,
     "start_time": "2024-01-31T14:54:25.255439",
     "status": "completed"
    },
    "tags": []
   },
   "outputs": [
    {
     "data": {
      "text/plain": [
       "0.887954820878621"
      ]
     },
     "execution_count": 20,
     "metadata": {},
     "output_type": "execute_result"
    }
   ],
   "source": [
    "roc_auc"
   ]
  },
  {
   "cell_type": "code",
   "execution_count": 21,
   "id": "99081389",
   "metadata": {
    "execution": {
     "iopub.execute_input": "2024-01-31T14:54:25.306898Z",
     "iopub.status.busy": "2024-01-31T14:54:25.306285Z",
     "iopub.status.idle": "2024-01-31T14:54:25.317444Z",
     "shell.execute_reply": "2024-01-31T14:54:25.316174Z"
    },
    "papermill": {
     "duration": 0.028299,
     "end_time": "2024-01-31T14:54:25.320460",
     "exception": false,
     "start_time": "2024-01-31T14:54:25.292161",
     "status": "completed"
    },
    "tags": []
   },
   "outputs": [
    {
     "data": {
      "text/plain": [
       "id\n",
       "165034   NaN\n",
       "165035   NaN\n",
       "165036   NaN\n",
       "165037   NaN\n",
       "165038   NaN\n",
       "          ..\n",
       "275052   NaN\n",
       "275053   NaN\n",
       "275054   NaN\n",
       "275055   NaN\n",
       "275056   NaN\n",
       "Name: Exited, Length: 110023, dtype: float64"
      ]
     },
     "execution_count": 21,
     "metadata": {},
     "output_type": "execute_result"
    }
   ],
   "source": [
    "df_test.pop(\"Exited\")"
   ]
  },
  {
   "cell_type": "code",
   "execution_count": 22,
   "id": "bfd77a47",
   "metadata": {
    "execution": {
     "iopub.execute_input": "2024-01-31T14:54:25.347986Z",
     "iopub.status.busy": "2024-01-31T14:54:25.347335Z",
     "iopub.status.idle": "2024-01-31T14:54:25.351878Z",
     "shell.execute_reply": "2024-01-31T14:54:25.351029Z"
    },
    "papermill": {
     "duration": 0.021127,
     "end_time": "2024-01-31T14:54:25.354389",
     "exception": false,
     "start_time": "2024-01-31T14:54:25.333262",
     "status": "completed"
    },
    "tags": []
   },
   "outputs": [],
   "source": [
    "#test_predictions = xgb.predict_proba(df_test)[:, 1]\n"
   ]
  },
  {
   "cell_type": "code",
   "execution_count": 23,
   "id": "3562fbcb",
   "metadata": {
    "execution": {
     "iopub.execute_input": "2024-01-31T14:54:25.471586Z",
     "iopub.status.busy": "2024-01-31T14:54:25.470896Z",
     "iopub.status.idle": "2024-01-31T14:54:25.475869Z",
     "shell.execute_reply": "2024-01-31T14:54:25.474716Z"
    },
    "papermill": {
     "duration": 0.111986,
     "end_time": "2024-01-31T14:54:25.478581",
     "exception": false,
     "start_time": "2024-01-31T14:54:25.366595",
     "status": "completed"
    },
    "tags": []
   },
   "outputs": [],
   "source": [
    "#submission_df = pd.DataFrame({'id': df_test.index, 'Exited': test_predictions})\n",
    "#submission_df.to_csv('submission.csv', index=False)\n"
   ]
  },
  {
   "cell_type": "code",
   "execution_count": 24,
   "id": "9925d0c0",
   "metadata": {
    "execution": {
     "iopub.execute_input": "2024-01-31T14:54:25.507182Z",
     "iopub.status.busy": "2024-01-31T14:54:25.506596Z",
     "iopub.status.idle": "2024-01-31T14:54:36.698148Z",
     "shell.execute_reply": "2024-01-31T14:54:36.697145Z"
    },
    "papermill": {
     "duration": 11.211106,
     "end_time": "2024-01-31T14:54:36.701862",
     "exception": false,
     "start_time": "2024-01-31T14:54:25.490756",
     "status": "completed"
    },
    "tags": []
   },
   "outputs": [],
   "source": [
    "xgb_params = dict(\n",
    "    max_depth=6,           # maximum depth of each tree - try 2 to 10\n",
    "    learning_rate=0.01,    # effect of each tree - try 0.0001 to 0.1\n",
    "    n_estimators=1000,     # number of trees (that is, boosting rounds) - try 1000 to 8000\n",
    "    min_child_weight=1,    # minimum number of houses in a leaf - try 1 to 10\n",
    "    colsample_bytree=0.7,  # fraction of features (columns) per tree - try 0.2 to 1.0\n",
    "    subsample=0.7,         # fraction of instances (rows) per tree - try 0.2 to 1.0\n",
    "    reg_alpha=0.5,         # L1 regularization (like LASSO) - try 0.0 to 10.0\n",
    "    reg_lambda=1.0,        # L2 regularization (like Ridge) - try 0.0 to 10.0\n",
    "    num_parallel_tree=1,   # set > 1 for boosted random forests\n",
    ")\n",
    "\n",
    "xgb2 = XGBClassifier(**xgb_params)\n",
    "xgb2.fit(X_train,y_train)\n",
    "predictions3=xgb2.predict_proba(X_val)[:,1]\n"
   ]
  },
  {
   "cell_type": "code",
   "execution_count": 25,
   "id": "7f9ce9f2",
   "metadata": {
    "execution": {
     "iopub.execute_input": "2024-01-31T14:54:36.730485Z",
     "iopub.status.busy": "2024-01-31T14:54:36.730091Z",
     "iopub.status.idle": "2024-01-31T14:54:36.749869Z",
     "shell.execute_reply": "2024-01-31T14:54:36.748579Z"
    },
    "papermill": {
     "duration": 0.03725,
     "end_time": "2024-01-31T14:54:36.752639",
     "exception": false,
     "start_time": "2024-01-31T14:54:36.715389",
     "status": "completed"
    },
    "tags": []
   },
   "outputs": [],
   "source": [
    "roc_auc = roc_auc_score(y_val, predictions3)"
   ]
  },
  {
   "cell_type": "code",
   "execution_count": 26,
   "id": "8fb61f4e",
   "metadata": {
    "execution": {
     "iopub.execute_input": "2024-01-31T14:54:36.781378Z",
     "iopub.status.busy": "2024-01-31T14:54:36.780892Z",
     "iopub.status.idle": "2024-01-31T14:54:36.789767Z",
     "shell.execute_reply": "2024-01-31T14:54:36.788120Z"
    },
    "papermill": {
     "duration": 0.027204,
     "end_time": "2024-01-31T14:54:36.792634",
     "exception": false,
     "start_time": "2024-01-31T14:54:36.765430",
     "status": "completed"
    },
    "tags": []
   },
   "outputs": [
    {
     "data": {
      "text/plain": [
       "0.8915894749239561"
      ]
     },
     "execution_count": 26,
     "metadata": {},
     "output_type": "execute_result"
    }
   ],
   "source": [
    "roc_auc"
   ]
  },
  {
   "cell_type": "code",
   "execution_count": 27,
   "id": "57c7d59c",
   "metadata": {
    "execution": {
     "iopub.execute_input": "2024-01-31T14:54:36.821436Z",
     "iopub.status.busy": "2024-01-31T14:54:36.820833Z",
     "iopub.status.idle": "2024-01-31T14:54:37.992003Z",
     "shell.execute_reply": "2024-01-31T14:54:37.990913Z"
    },
    "papermill": {
     "duration": 1.188114,
     "end_time": "2024-01-31T14:54:37.995034",
     "exception": false,
     "start_time": "2024-01-31T14:54:36.806920",
     "status": "completed"
    },
    "tags": []
   },
   "outputs": [],
   "source": [
    "test_predictions = xgb2.predict_proba(df_test)[:, 1]"
   ]
  },
  {
   "cell_type": "code",
   "execution_count": 28,
   "id": "4e01ac50",
   "metadata": {
    "execution": {
     "iopub.execute_input": "2024-01-31T14:54:38.023971Z",
     "iopub.status.busy": "2024-01-31T14:54:38.023502Z",
     "iopub.status.idle": "2024-01-31T14:54:38.433989Z",
     "shell.execute_reply": "2024-01-31T14:54:38.432785Z"
    },
    "papermill": {
     "duration": 0.428287,
     "end_time": "2024-01-31T14:54:38.437499",
     "exception": false,
     "start_time": "2024-01-31T14:54:38.009212",
     "status": "completed"
    },
    "tags": []
   },
   "outputs": [],
   "source": [
    "submission_df = pd.DataFrame({'id': df_test.index, 'Exited': test_predictions})\n",
    "submission_df.to_csv('submission.csv', index=False)\n"
   ]
  },
  {
   "cell_type": "code",
   "execution_count": null,
   "id": "33c4e8c9",
   "metadata": {
    "papermill": {
     "duration": 0.011807,
     "end_time": "2024-01-31T14:54:38.461753",
     "exception": false,
     "start_time": "2024-01-31T14:54:38.449946",
     "status": "completed"
    },
    "tags": []
   },
   "outputs": [],
   "source": []
  }
 ],
 "metadata": {
  "kaggle": {
   "accelerator": "none",
   "dataSources": [
    {
     "databundleVersionId": 7405009,
     "sourceId": 65711,
     "sourceType": "competition"
    }
   ],
   "dockerImageVersionId": 30635,
   "isGpuEnabled": false,
   "isInternetEnabled": true,
   "language": "python",
   "sourceType": "notebook"
  },
  "kernelspec": {
   "display_name": "Python 3",
   "language": "python",
   "name": "python3"
  },
  "language_info": {
   "codemirror_mode": {
    "name": "ipython",
    "version": 3
   },
   "file_extension": ".py",
   "mimetype": "text/x-python",
   "name": "python",
   "nbconvert_exporter": "python",
   "pygments_lexer": "ipython3",
   "version": "3.10.12"
  },
  "papermill": {
   "default_parameters": {},
   "duration": 150.104448,
   "end_time": "2024-01-31T14:54:39.199064",
   "environment_variables": {},
   "exception": null,
   "input_path": "__notebook__.ipynb",
   "output_path": "__notebook__.ipynb",
   "parameters": {},
   "start_time": "2024-01-31T14:52:09.094616",
   "version": "2.4.0"
  }
 },
 "nbformat": 4,
 "nbformat_minor": 5
}
